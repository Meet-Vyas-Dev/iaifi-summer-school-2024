{
 "cells": [
  {
   "cell_type": "code",
   "execution_count": 397,
   "metadata": {},
   "outputs": [
    {
     "name": "stdout",
     "output_type": "stream",
     "text": [
      "Requirement already satisfied: emcee in /Library/Frameworks/Python.framework/Versions/3.12/lib/python3.12/site-packages (3.1.6)\n",
      "Requirement already satisfied: corner in /Library/Frameworks/Python.framework/Versions/3.12/lib/python3.12/site-packages (2.2.2)\n",
      "Requirement already satisfied: pytorch-lightning in /Library/Frameworks/Python.framework/Versions/3.12/lib/python3.12/site-packages (2.4.0)\n",
      "Requirement already satisfied: tqdm in /Library/Frameworks/Python.framework/Versions/3.12/lib/python3.12/site-packages (4.66.5)\n",
      "Requirement already satisfied: scipy in /Library/Frameworks/Python.framework/Versions/3.12/lib/python3.12/site-packages (1.14.0)\n",
      "Requirement already satisfied: zuko in /Library/Frameworks/Python.framework/Versions/3.12/lib/python3.12/site-packages (1.2.0)\n",
      "Collecting pandas\n",
      "  Using cached pandas-2.2.2-cp312-cp312-macosx_11_0_arm64.whl.metadata (19 kB)\n",
      "Requirement already satisfied: numpy in /Library/Frameworks/Python.framework/Versions/3.12/lib/python3.12/site-packages (from emcee) (1.26.4)\n",
      "Requirement already satisfied: matplotlib>=2.1 in /Library/Frameworks/Python.framework/Versions/3.12/lib/python3.12/site-packages (from corner) (3.9.1)\n",
      "Requirement already satisfied: torch>=2.1.0 in /Library/Frameworks/Python.framework/Versions/3.12/lib/python3.12/site-packages (from pytorch-lightning) (2.4.0)\n",
      "Requirement already satisfied: PyYAML>=5.4 in /Library/Frameworks/Python.framework/Versions/3.12/lib/python3.12/site-packages (from pytorch-lightning) (6.0.1)\n",
      "Requirement already satisfied: fsspec>=2022.5.0 in /Library/Frameworks/Python.framework/Versions/3.12/lib/python3.12/site-packages (from fsspec[http]>=2022.5.0->pytorch-lightning) (2024.6.1)\n",
      "Requirement already satisfied: torchmetrics>=0.7.0 in /Library/Frameworks/Python.framework/Versions/3.12/lib/python3.12/site-packages (from pytorch-lightning) (1.4.0.post0)\n",
      "Requirement already satisfied: packaging>=20.0 in /Library/Frameworks/Python.framework/Versions/3.12/lib/python3.12/site-packages (from pytorch-lightning) (24.0)\n",
      "Requirement already satisfied: typing-extensions>=4.4.0 in /Library/Frameworks/Python.framework/Versions/3.12/lib/python3.12/site-packages (from pytorch-lightning) (4.12.2)\n",
      "Requirement already satisfied: lightning-utilities>=0.10.0 in /Library/Frameworks/Python.framework/Versions/3.12/lib/python3.12/site-packages (from pytorch-lightning) (0.11.6)\n",
      "Requirement already satisfied: python-dateutil>=2.8.2 in /Users/jessiemicallef/Library/Python/3.12/lib/python/site-packages (from pandas) (2.9.0.post0)\n",
      "Collecting pytz>=2020.1 (from pandas)\n",
      "  Using cached pytz-2024.1-py2.py3-none-any.whl.metadata (22 kB)\n",
      "Collecting tzdata>=2022.7 (from pandas)\n",
      "  Using cached tzdata-2024.1-py2.py3-none-any.whl.metadata (1.4 kB)\n",
      "Requirement already satisfied: aiohttp!=4.0.0a0,!=4.0.0a1 in /Library/Frameworks/Python.framework/Versions/3.12/lib/python3.12/site-packages (from fsspec[http]>=2022.5.0->pytorch-lightning) (3.9.5)\n",
      "Requirement already satisfied: setuptools in /Library/Frameworks/Python.framework/Versions/3.12/lib/python3.12/site-packages (from lightning-utilities>=0.10.0->pytorch-lightning) (72.1.0)\n",
      "Requirement already satisfied: contourpy>=1.0.1 in /Library/Frameworks/Python.framework/Versions/3.12/lib/python3.12/site-packages (from matplotlib>=2.1->corner) (1.2.1)\n",
      "Requirement already satisfied: cycler>=0.10 in /Library/Frameworks/Python.framework/Versions/3.12/lib/python3.12/site-packages (from matplotlib>=2.1->corner) (0.12.1)\n",
      "Requirement already satisfied: fonttools>=4.22.0 in /Library/Frameworks/Python.framework/Versions/3.12/lib/python3.12/site-packages (from matplotlib>=2.1->corner) (4.53.1)\n",
      "Requirement already satisfied: kiwisolver>=1.3.1 in /Library/Frameworks/Python.framework/Versions/3.12/lib/python3.12/site-packages (from matplotlib>=2.1->corner) (1.4.5)\n",
      "Requirement already satisfied: pillow>=8 in /Library/Frameworks/Python.framework/Versions/3.12/lib/python3.12/site-packages (from matplotlib>=2.1->corner) (10.3.0)\n",
      "Requirement already satisfied: pyparsing>=2.3.1 in /Library/Frameworks/Python.framework/Versions/3.12/lib/python3.12/site-packages (from matplotlib>=2.1->corner) (3.1.2)\n",
      "Requirement already satisfied: six>=1.5 in /Users/jessiemicallef/Library/Python/3.12/lib/python/site-packages (from python-dateutil>=2.8.2->pandas) (1.16.0)\n",
      "Requirement already satisfied: filelock in /Library/Frameworks/Python.framework/Versions/3.12/lib/python3.12/site-packages (from torch>=2.1.0->pytorch-lightning) (3.15.4)\n",
      "Requirement already satisfied: sympy in /Library/Frameworks/Python.framework/Versions/3.12/lib/python3.12/site-packages (from torch>=2.1.0->pytorch-lightning) (1.13.1)\n",
      "Requirement already satisfied: networkx in /Library/Frameworks/Python.framework/Versions/3.12/lib/python3.12/site-packages (from torch>=2.1.0->pytorch-lightning) (3.3)\n",
      "Requirement already satisfied: jinja2 in /Library/Frameworks/Python.framework/Versions/3.12/lib/python3.12/site-packages (from torch>=2.1.0->pytorch-lightning) (3.1.4)\n",
      "Requirement already satisfied: aiosignal>=1.1.2 in /Library/Frameworks/Python.framework/Versions/3.12/lib/python3.12/site-packages (from aiohttp!=4.0.0a0,!=4.0.0a1->fsspec[http]>=2022.5.0->pytorch-lightning) (1.3.1)\n",
      "Requirement already satisfied: attrs>=17.3.0 in /Library/Frameworks/Python.framework/Versions/3.12/lib/python3.12/site-packages (from aiohttp!=4.0.0a0,!=4.0.0a1->fsspec[http]>=2022.5.0->pytorch-lightning) (23.2.0)\n",
      "Requirement already satisfied: frozenlist>=1.1.1 in /Library/Frameworks/Python.framework/Versions/3.12/lib/python3.12/site-packages (from aiohttp!=4.0.0a0,!=4.0.0a1->fsspec[http]>=2022.5.0->pytorch-lightning) (1.4.1)\n",
      "Requirement already satisfied: multidict<7.0,>=4.5 in /Library/Frameworks/Python.framework/Versions/3.12/lib/python3.12/site-packages (from aiohttp!=4.0.0a0,!=4.0.0a1->fsspec[http]>=2022.5.0->pytorch-lightning) (6.0.5)\n",
      "Requirement already satisfied: yarl<2.0,>=1.0 in /Library/Frameworks/Python.framework/Versions/3.12/lib/python3.12/site-packages (from aiohttp!=4.0.0a0,!=4.0.0a1->fsspec[http]>=2022.5.0->pytorch-lightning) (1.9.4)\n",
      "Requirement already satisfied: MarkupSafe>=2.0 in /Library/Frameworks/Python.framework/Versions/3.12/lib/python3.12/site-packages (from jinja2->torch>=2.1.0->pytorch-lightning) (2.1.5)\n",
      "Requirement already satisfied: mpmath<1.4,>=1.1.0 in /Library/Frameworks/Python.framework/Versions/3.12/lib/python3.12/site-packages (from sympy->torch>=2.1.0->pytorch-lightning) (1.3.0)\n",
      "Requirement already satisfied: idna>=2.0 in /Library/Frameworks/Python.framework/Versions/3.12/lib/python3.12/site-packages (from yarl<2.0,>=1.0->aiohttp!=4.0.0a0,!=4.0.0a1->fsspec[http]>=2022.5.0->pytorch-lightning) (3.7)\n",
      "Using cached pandas-2.2.2-cp312-cp312-macosx_11_0_arm64.whl (11.3 MB)\n",
      "Using cached pytz-2024.1-py2.py3-none-any.whl (505 kB)\n",
      "Using cached tzdata-2024.1-py2.py3-none-any.whl (345 kB)\n",
      "Installing collected packages: pytz, tzdata, pandas\n",
      "Successfully installed pandas-2.2.2 pytz-2024.1 tzdata-2024.1\n",
      "\n",
      "\u001b[1m[\u001b[0m\u001b[34;49mnotice\u001b[0m\u001b[1;39;49m]\u001b[0m\u001b[39;49m A new release of pip is available: \u001b[0m\u001b[31;49m24.0\u001b[0m\u001b[39;49m -> \u001b[0m\u001b[32;49m24.2\u001b[0m\n",
      "\u001b[1m[\u001b[0m\u001b[34;49mnotice\u001b[0m\u001b[1;39;49m]\u001b[0m\u001b[39;49m To update, run: \u001b[0m\u001b[32;49mpip3 install --upgrade pip\u001b[0m\n"
     ]
    }
   ],
   "source": [
    "! pip3 install --upgrade emcee corner pytorch-lightning tqdm scipy zuko pandas"
   ]
  },
  {
   "cell_type": "code",
   "execution_count": 1,
   "metadata": {},
   "outputs": [],
   "source": [
    "import torch\n",
    "import torch.nn as nn\n",
    "import torch.nn.functional as F\n",
    "from torch.utils.data import TensorDataset, DataLoader, random_split\n",
    "import numpy as np\n",
    "import emcee\n",
    "from scipy.stats import poisson\n",
    "from scipy.stats import chi2\n",
    "from scipy.optimize import basinhopping\n",
    "from tqdm import tqdm\n",
    "import matplotlib.pyplot as plt\n",
    "import pytorch_lightning as pl\n",
    "import corner\n",
    "import zuko\n",
    "import pandas as pd\n",
    "from tensorboard.backend.event_processing.event_accumulator import EventAccumulator"
   ]
  },
  {
   "cell_type": "code",
   "execution_count": 2,
   "metadata": {},
   "outputs": [
    {
     "name": "stdout",
     "output_type": "stream",
     "text": [
      "Using device: cuda\n"
     ]
    }
   ],
   "source": [
    "device = torch.device(\"cuda\" if torch.cuda.is_available() else \"cpu\")\n",
    "\n",
    "# Print the device being used\n",
    "print(f'Using device: {device}')"
   ]
  },
  {
   "cell_type": "code",
   "execution_count": 5,
   "metadata": {},
   "outputs": [
    {
     "name": "stdout",
     "output_type": "stream",
     "text": [
      "CUDA available: True\n",
      "Using device: cuda\n",
      "GPU: NVIDIA GeForce RTX 3060 Laptop GPU\n",
      "CUDA Capability: (8, 6)\n",
      "CUDA Version: 12.4\n",
      "Current CUDA device index: 0\n",
      "Number of available GPUs: 1\n",
      "Device Memory Allocated: 0 bytes\n",
      "Device Memory Cached: 0 bytes\n"
     ]
    }
   ],
   "source": [
    "# Check if CUDA is available\n",
    "cuda_available = torch.cuda.is_available()\n",
    "print(f'CUDA available: {cuda_available}')\n",
    "\n",
    "# Determine the device to use\n",
    "device = torch.device(\"cuda\" if cuda_available else \"cpu\")\n",
    "print(f'Using device: {device}')\n",
    "\n",
    "# If CUDA is available, print the GPU name and other details\n",
    "if cuda_available:\n",
    "    print(f'GPU: {torch.cuda.get_device_name(0)}')\n",
    "    print(f'CUDA Capability: {torch.cuda.get_device_capability(0)}')\n",
    "    print(f'CUDA Version: {torch.version.cuda}')\n",
    "    print(f'Current CUDA device index: {torch.cuda.current_device()}')\n",
    "    print(f'Number of available GPUs: {torch.cuda.device_count()}')\n",
    "    print(f'Device Memory Allocated: {torch.cuda.memory_allocated(0)} bytes')\n",
    "    print(f'Device Memory Cached: {torch.cuda.memory_reserved(0)} bytes')"
   ]
  },
  {
   "cell_type": "code",
   "execution_count": 8,
   "metadata": {},
   "outputs": [
    {
     "name": "stderr",
     "output_type": "stream",
     "text": [
      "'nvidia-smi' is not recognized as an internal or external command,\n",
      "operable program or batch file.\n"
     ]
    }
   ],
   "source": [
    "!nvidia-smi\n"
   ]
  },
  {
   "cell_type": "code",
   "execution_count": 7,
   "metadata": {},
   "outputs": [
    {
     "name": "stdout",
     "output_type": "stream",
     "text": [
      "Tensor on cuda:\n",
      "tensor([[0.6515, 0.2693, 0.8771],\n",
      "        [0.7860, 0.2505, 0.1527],\n",
      "        [0.9172, 0.0773, 0.0069]], device='cuda:0')\n",
      "Device Memory Allocated: 512 bytes\n",
      "Device Memory Cached: 2097152 bytes\n"
     ]
    }
   ],
   "source": [
    "# Create a random tensor on the GPU\n",
    "tensor = torch.rand(3, 3, device=device)\n",
    "print(f'Tensor on {device}:')\n",
    "print(tensor)\n",
    "\n",
    "# Check memory allocated after creating the tensor\n",
    "print(f'Device Memory Allocated: {torch.cuda.memory_allocated(0)} bytes')\n",
    "print(f'Device Memory Cached: {torch.cuda.memory_reserved(0)} bytes')"
   ]
  },
  {
   "attachments": {},
   "cell_type": "markdown",
   "metadata": {},
   "source": [
    "# Simulation-based (likelihood-free) inference\n",
    "Originally by **Siddharth Mishra-Sharma**.\n",
    "Updated by **Jessie Micallef** ([jessiem@mit.edu](mailto:jessiem@mit.edu))\n",
    "\n",
    "[![Open In Colab](https://colab.research.google.com/assets/colab-badge.svg)](https://colab.research.google.com/github/jessimic//sbi-tutorial-iaifi/blob/main/Tutorial1_Basic_NRE_NPE.ipynb)"
   ]
  },
  {
   "cell_type": "markdown",
   "metadata": {},
   "source": [
    "## 1. Introduction"
   ]
  },
  {
   "attachments": {},
   "cell_type": "markdown",
   "metadata": {},
   "source": [
    "Simulation-based inference (SBI) is a powerful class of methods for performing inference in settings where the likelihood is computationally intractible or challenging, but simulations can be realized via forward modeling. This tutorial focuses on an introduction to implicit likelihood and building up two common modern _neural_ SBI techniques.\n",
    "\n",
    "In this lecture we will\n",
    "1. Introduce the concept of an [implicit likelihood](#implicit_llh), how to use it perform inference, and approxiate posterior with MCMC;\n",
    "2. Apply [example](#nre) using neural likelihood-ratio estimation (NRE)\n",
    "3. Apply [example](#npe) using neural posterior estimation (NPE);\n",
    "\n",
    "As examples, we will look at a simple Gaussian-signal-on-power-law-background (\"bump hunt\"), where the likelihood is tractable, and a more complicated example of inferring a distribution of point sources, where the likelihood is computationally difficult. We will emphasize what it means for a likelihood to be computationally challenging and where the advantages of SBI come in."
   ]
  },
  {
   "attachments": {},
   "cell_type": "markdown",
   "metadata": {},
   "source": [
    "<img src=./assets/likelihood.png alt= “” width=800>\n",
    "<img src=./assets/sbi.png alt= “” width=800>\n"
   ]
  },
  {
   "attachments": {},
   "cell_type": "markdown",
   "metadata": {},
   "source": [
    "# 1.1 Simple bump-on-power-law example"
   ]
  },
  {
   "attachments": {},
   "cell_type": "markdown",
   "metadata": {},
   "source": [
    "As an initial example, we'll look at a singal and background example. Consider a Gaussian signal ($x_s$), which we can parameterized by some [amplitude ($A_s$), mean location ($\\mu_s$), standard deviation ($\\sigma_s$)]. This signal will be on top of the background ($x_b$), represented by a power law parameterized as [amplitude ($A_b$), power-law exponent ($n_b$)].\n",
    "$$x_s = A_s\\,\\exp^{-(y - \\mu_s)^2 / 2\\sigma_s^2}$$\n",
    "$$ x_b = A_b\\,y^{n_b}$$\n",
    "$$x \\sim \\mathrm{Pois}(x_b + x_s)$$"
   ]
  },
  {
   "cell_type": "markdown",
   "metadata": {},
   "source": [
    "Let's reproduce one of the most popular examples in particle physics, the mass plot for the higgs boson:"
   ]
  },
  {
   "cell_type": "markdown",
   "metadata": {},
   "source": [
    "<img src=./assets/higgs_mass_plot_cms.jpg alt= “” width=700>"
   ]
  },
  {
   "cell_type": "markdown",
   "metadata": {},
   "source": [
    "With some choice parameters of the power-law background and Guassian signal, we can get something that resembles the above plot:\n",
    "<a id=\"parameters\"></a>"
   ]
  },
  {
   "cell_type": "code",
   "execution_count": 3,
   "metadata": {},
   "outputs": [
    {
     "data": {
      "text/plain": [
       "Text(0.5, 1.0, 'Higgs boson decaying into a pair of photons')"
      ]
     },
     "execution_count": 3,
     "metadata": {},
     "output_type": "execute_result"
    },
    {
     "data": {
      "image/png": "[encoded data removed]",
      "text/plain": [
       "<Figure size 640x480 with 1 Axes>"
      ]
     },
     "metadata": {},
     "output_type": "display_data"
    }
   ],
   "source": [
    "mass_sample = np.linspace(100, 150, 100)  # Mass range in GeV\n",
    "\n",
    "# Power-law background\n",
    "exp_back = -5.5\n",
    "amp_back = 6e13\n",
    "y_b_sample = amp_back * (mass_sample ** exp_back)  \n",
    "\n",
    "# Gaussian signal \n",
    "amp_signal=60\n",
    "mu_signal=126 #Measured higgs mass\n",
    "std_signal = 2\n",
    "y_s_sample =  amp_signal * np.exp(-((mass_sample - mu_signal) ** 2) / (2 * std_signal ** 2)) \n",
    "\n",
    "#Make stacked histogram to see distribution that you would be pulling from\n",
    "plt.hist([mass_sample, mass_sample], bins=50, weights=[y_b_sample, y_s_sample], label=['background processes', 'Higgs signal'], stacked=True)\n",
    "\n",
    "plt.legend()\n",
    "plt.xlabel(r'$m_{\\gamma \\gamma}$ [GeV]')\n",
    "plt.ylabel(\"Weighted Events\")\n",
    "plt.title(\"Higgs boson decaying into a pair of photons\")\n"
   ]
  },
  {
   "cell_type": "markdown",
   "metadata": {},
   "source": [
    "### Now we've visualized this, we will make a single forward model that contains both signal + background"
   ]
  },
  {
   "cell_type": "code",
   "execution_count": 9,
   "metadata": {},
   "outputs": [],
   "source": [
    "#Make signal + background into one \"forward model\"\n",
    "def bump_forward_model(y, amp_s, mu_s, std_s, amp_b, exp_b):\n",
    "    \"\"\" Forward model for a Gaussian bump (amp_s, mu_s, std_s) on top \n",
    "    of a power-law background (amp_b, exp_b).\n",
    "    \"\"\"\n",
    "    x_b = amp_b * (y ** exp_b)  # Power-law background\n",
    "    x_s = amp_s * np.exp(-((y - mu_s) ** 2) / (2 * std_s ** 2))  # Gaussian signal\n",
    "    #print(amp_b , exp_b, amp_s, mu_s, std_s)\n",
    "    x = x_b + x_s  # Total mean signal\n",
    "\n",
    "    return x\n",
    "\n",
    "def poisson_interval(k, alpha=0.32): \n",
    "    \"\"\" Uses chi2 to get the poisson interval.\n",
    "    \"\"\"\n",
    "    a = alpha\n",
    "    low, high = (chi2.ppf(a/2, 2*k) / 2, chi2.ppf(1-a/2, 2*k + 2) / 2)\n",
    "    if k == 0: \n",
    "        low = 0.0\n",
    "    return k - low, high - k"
   ]
  },
  {
   "cell_type": "code",
   "execution_count": 10,
   "metadata": {},
   "outputs": [
    {
     "data": {
      "image/png": "[encoded data removed]",
      "text/plain": [
       "<Figure size 640x480 with 1 Axes>"
      ]
     },
     "metadata": {},
     "output_type": "display_data"
    }
   ],
   "source": [
    "y = np.linspace(100, 150, 60)  # Dependent variable\n",
    "amp_signal= 150 #BUMP UP amplitute for ease\n",
    "\n",
    "# Mean expected counts\n",
    "x_mu = bump_forward_model(y, \n",
    "                    amp_s=amp_signal, mu_s=mu_signal, std_s=std_signal,  # Signal params -- BUMP UP amplitute and std for ease\n",
    "                    amp_b=amp_back, exp_b=exp_back)  # Background params\n",
    "# Realized counts\n",
    "x = np.random.poisson(x_mu)\n",
    "x_err = np.array([poisson_interval(k) for k in x.T]).T\n",
    "\n",
    "# Plot\n",
    "plt.plot(y, x_mu, color='k', ls='--', label=\"Mean expected counts\")\n",
    "plt.errorbar(y, x, yerr=x_err, fmt='o', color='k', label=\"Realized counts\")\n",
    "\n",
    "plt.xlabel(r\"$m_{\\gamma\\gamma}$\")\n",
    "plt.ylabel(\"Counts\")\n",
    "\n",
    "plt.legend();"
   ]
  },
  {
   "attachments": {},
   "cell_type": "markdown",
   "metadata": {},
   "source": [
    "## 1.2 The explicit likelihood"
   ]
  },
  {
   "attachments": {},
   "cell_type": "markdown",
   "metadata": {},
   "source": [
    "In this case, we can write down a log-likelihood as a Poisson over the mean returned by the forward model."
   ]
  },
  {
   "cell_type": "code",
   "execution_count": 11,
   "metadata": {},
   "outputs": [],
   "source": [
    "def log_like(theta, y, x):\n",
    "    \"\"\" Log-likehood function for a Gaussian bump (amp_s, mu_s, std_s) \n",
    "    on top of a power-law background (amp_b, exp_b).\n",
    "    \"\"\"\n",
    "    amp_s, mu_s, std_s, amp_b, exp_b = theta\n",
    "    mu = bump_forward_model(y, amp_s, mu_s, std_s, amp_b, exp_b)\n",
    "    return poisson.logpmf(x, mu).sum()"
   ]
  },
  {
   "attachments": {},
   "cell_type": "markdown",
   "metadata": {},
   "source": [
    "Let's focus on just 2 parameters for simplicity, the signal amplitude and mean location. The likelihood in this case is:"
   ]
  },
  {
   "cell_type": "code",
   "execution_count": 12,
   "metadata": {},
   "outputs": [
    {
     "data": {
      "text/plain": [
       "-242.56957167149608"
      ]
     },
     "execution_count": 12,
     "metadata": {},
     "output_type": "execute_result"
    }
   ],
   "source": [
    "def log_like_sig(params, y, x, set_amp_back=6e7,set_std_signal=2,set_exp_back=-5.5):\n",
    "    \"\"\" Log-likehood function for a Gaussian bump (amp_s, mu_s) on top of a fixed PL background.\n",
    "    \"\"\"\n",
    "    amp_s, mu_s = params\n",
    "    std_s, amp_b, exp_b = set_std_signal, set_amp_back, set_exp_back\n",
    "    mu = bump_forward_model(y, amp_s, mu_s, std_s, amp_b, exp_b)\n",
    "    return poisson.logpmf(x, mu).sum()\n",
    "\n",
    "log_like_sig([amp_signal, mu_signal], y, x, set_amp_back=amp_back, set_std_signal=std_signal,set_exp_back=exp_back)"
   ]
  },
  {
   "attachments": {},
   "cell_type": "markdown",
   "metadata": {},
   "source": [
    "### Get a maximum-liklelihood estimate:"
   ]
  },
  {
   "cell_type": "code",
   "execution_count": 13,
   "metadata": {},
   "outputs": [
    {
     "name": "stdout",
     "output_type": "stream",
     "text": [
      "MLE parameters: [  2.04159517 100.        ]; true parameters: (150, 126)\n"
     ]
    }
   ],
   "source": [
    "# Initial guess for the parameters\n",
    "initial_guess = [90., 135.] #amp_s_guess, mu_s_guess\n",
    "\n",
    "# Set up the minimizer_kwargs for the basinhopping algorithm\n",
    "minimizer_kwargs = {\"method\": \"L-BFGS-B\", \"bounds\": ((0, 200), (100, 150))} #Set bounds (amp_s_min, amp_s_max) and (mu_s_min, mu_s_max)\n",
    "\n",
    "# Perform the optimization using basinhopping\n",
    "opt = basinhopping(lambda thetas: -log_like_sig(thetas, y, x,set_amp_back=amp_back,set_std_signal=std_signal,set_exp_back=exp_back),\n",
    "                   initial_guess, minimizer_kwargs=minimizer_kwargs)\n",
    "\n",
    "print(\"MLE parameters: {}; true parameters: {}\".format(opt.x, (amp_signal, mu_signal)))\n"
   ]
  },
  {
   "attachments": {},
   "cell_type": "markdown",
   "metadata": {},
   "source": [
    "### And approximate posterior using `emcee`:"
   ]
  },
  {
   "cell_type": "code",
   "execution_count": 15,
   "metadata": {},
   "outputs": [],
   "source": [
    "def log_prior(thetas):\n",
    "    \"\"\" Log-prior function for a Gaussian bump (amp_s, mu_s) on top of a fixed PL background.\n",
    "    \"\"\"\n",
    "    amp_s, mu_s = thetas\n",
    "    if 0 < amp_s < 200 and 100 < mu_s < 150: #Set bounds amp_s and mu_s\n",
    "        return 0\n",
    "    else:\n",
    "        return -np.inf\n",
    "    \n",
    "def log_post(thetas, y, x):\n",
    "    \"\"\" Log-posterior function for a Gaussian bump (amp_s, mu_s) on top of a fixed PL background.\n",
    "    \"\"\"\n",
    "    lp = log_prior(thetas)\n",
    "    if not np.isfinite(lp):\n",
    "        return -np.inf\n",
    "    else:\n",
    "        return lp + log_like_sig(thetas, y, x, set_amp_back=amp_back,set_std_signal=std_signal,set_exp_back=exp_back)\n",
    "    "
   ]
  },
  {
   "cell_type": "code",
   "execution_count": 16,
   "metadata": {},
   "outputs": [
    {
     "name": "stderr",
     "output_type": "stream",
     "text": [
      "  0%|          | 0/5000 [00:00<?, ?it/s]"
     ]
    },
    {
     "name": "stderr",
     "output_type": "stream",
     "text": [
      "c:\\Python312\\Lib\\site-packages\\emcee\\moves\\red_blue.py:99: RuntimeWarning: invalid value encountered in scalar subtract\n",
      "  lnpdiff = f + nlp - state.log_prob[j]\n",
      "100%|██████████| 5000/5000 [00:29<00:00, 167.92it/s]\n"
     ]
    }
   ],
   "source": [
    "# Sampling with `emcee`\n",
    "ndim, nwalkers = 2, 32\n",
    "sampler = emcee.EnsembleSampler(nwalkers, ndim, log_post, args=(y, x))\n",
    "\n",
    "pos = opt.x + 1e-1 * np.random.randn(nwalkers, ndim) #starting position for the walkers with slight variation\n",
    "sampler.run_mcmc(pos, 5000, progress=True);"
   ]
  },
  {
   "cell_type": "code",
   "execution_count": 17,
   "metadata": {},
   "outputs": [
    {
     "data": {
      "image/png": "[encoded data removed]",
      "text/plain": [
       "<Figure size 550x550 with 4 Axes>"
      ]
     },
     "metadata": {},
     "output_type": "display_data"
    }
   ],
   "source": [
    "# Plot posterior samples\n",
    "flat_samples = sampler.get_chain(discard=1000, flat=True) #\"Burn in\" or discrading the first X steps is common practice for MCMC\n",
    "corner.corner(flat_samples, labels=[\"amp_s\", \"mu_s\"], truths=[150, 126], smooth=1.);"
   ]
  },
  {
   "cell_type": "markdown",
   "metadata": {},
   "source": [
    "### **Exercise**: How does this change if you alter the number of walkers, sampling, burn-in, etc.? "
   ]
  },
  {
   "cell_type": "markdown",
   "metadata": {},
   "source": [
    "### **Bonus Exercise**: What if you use another MC sampling method (https://chi-feng.github.io/mcmc-demo/)?"
   ]
  },
  {
   "cell_type": "markdown",
   "metadata": {},
   "source": [
    "Hint: You will need to use a differnt package instead of emcee. Some options: pyro, pymc, pyhmc"
   ]
  },
  {
   "cell_type": "code",
   "execution_count": null,
   "metadata": {},
   "outputs": [],
   "source": [
    "#Try replacing MCMC with pyro HMC"
   ]
  },
  {
   "attachments": {},
   "cell_type": "markdown",
   "metadata": {},
   "source": [
    "## 1.3 The implicit likelihood\n",
    "<a id=\"implicit_llh\"></a>"
   ]
  },
  {
   "attachments": {},
   "cell_type": "markdown",
   "metadata": {},
   "source": [
    "Now we will do inference without relying on the explicit likelihood evaluation. The key realization is that samples from the forward model implicitly encode the likelihood; when we are simulating data points $x$ for different parameter points $\\theta$, we are drawing samples from the likelihood:\n",
    "$$x\\sim p(x\\mid\\theta)$$\n",
    "which is where the _implicit_ aspect comes from. Let's write down a bump simulator:"
   ]
  },
  {
   "cell_type": "markdown",
   "metadata": {},
   "source": [
    "#### Let's write a simulator for the bump example:\n",
    "<a id=\"bump_sim\"></a>"
   ]
  },
  {
   "cell_type": "code",
   "execution_count": 17,
   "metadata": {},
   "outputs": [
    {
     "name": "stdout",
     "output_type": "stream",
     "text": [
      "[606 627 515 523 549 455 503 440 443 423 387 404 345 311 331 359 302 260\n",
      " 277 260 240 234 251 233 245 216 227 235 270 298 315 323 281 244 178 169\n",
      " 152 150 132 130 121 128 100 121 103  93 105  94 101  87  91 100  72  87\n",
      "  70  65  76  71  54  70]\n"
     ]
    }
   ],
   "source": [
    "def bump_simulator(thetas, y,set_amp_back=6e13,set_std_signal=2,set_exp_back=-5.5):\n",
    "    \"\"\" Simulate samples from the bump forward model given theta = (amp_s, mu_s) and dependent variable points y.\n",
    "    \"\"\"\n",
    "    amp_s, mu_s = thetas\n",
    "    std_s, amp_b, exp_b = set_std_signal, set_amp_back, set_exp_back\n",
    "    x_mu = bump_forward_model(y, amp_s, mu_s, std_s, amp_b, exp_b)\n",
    "    x = np.random.poisson(x_mu)\n",
    "    settings = {\"amp_s\": amp_s, \"mu_s\": mu_s, \"std_s\": std_s, \"amp_b\": amp_b, \"exp_b\": exp_b}\n",
    "    return x, settings\n",
    "\n",
    "# Test it out\n",
    "#y = np.linspace(100, 150, 60)\n",
    "\n",
    "x_simulated, setting_vals = bump_simulator([amp_signal, mu_signal], y, set_amp_back=amp_back,set_std_signal=std_signal,set_exp_back=exp_back)\n",
    "print(x_simulated)"
   ]
  },
  {
   "cell_type": "markdown",
   "metadata": {},
   "source": [
    "### **Exercise:** Run the bump simulator multiple times. Notice that each time you run the cell above, the distribution changes. Play with the [parameter settings](#implicit_llh) in the signal and background. What makes the signal bump larger? What settings for the background makes your signal disappear? What moves the signal bump?\n"
   ]
  },
  {
   "cell_type": "code",
   "execution_count": 18,
   "metadata": {},
   "outputs": [
    {
     "data": {
      "image/png": "[encoded data removed]",
      "text/plain": [
       "<Figure size 640x480 with 1 Axes>"
      ]
     },
     "metadata": {},
     "output_type": "display_data"
    }
   ],
   "source": [
    "#Plot bump simulator\n",
    "plt.plot(y,x_simulated,'ko')\n",
    "plt.xlabel(r\"$m_{\\gamma\\gamma}$\")\n",
    "plt.ylabel(\"Counts\")\n",
    "for i, (name, value) in enumerate(setting_vals.items()):\n",
    "    if value > 200:\n",
    "            plt.text(0.65, 0.98 - i * 0.05, f\"{name} = {value:.1e}\", transform=plt.gca().transAxes, fontsize=12, verticalalignment='top')\n",
    "    else:\n",
    "        plt.text(0.65, 0.98 - i * 0.05, f\"{name} = {value}\", transform=plt.gca().transAxes, fontsize=12, verticalalignment='top')"
   ]
  },
  {
   "attachments": {},
   "cell_type": "markdown",
   "metadata": {},
   "source": [
    "## 1.4 Approximate Bayesian Computation (ABC)"
   ]
  },
  {
   "cell_type": "markdown",
   "metadata": {},
   "source": [
    "We will not be focusing on ABC, but the concept can help to understand as a stepping stone before we start to use neural methods in place of Bayesian Computation. Brief overview:"
   ]
  },
  {
   "attachments": {},
   "cell_type": "markdown",
   "metadata": {},
   "source": [
    "<img src=./assets/abc_carol.png alt= “” width=800>\n"
   ]
  },
  {
   "attachments": {},
   "cell_type": "markdown",
   "metadata": {},
   "source": [
    "The idea behind ABC is to simulate samples from the forward model (with the parameters $\\theta$ drawn from a prior) and compare it to the dataset of interest $x$. If the data and realized samples are close enough to each other according to some criterion (such as Mean Squared Error), we keep the parameter points."
   ]
  },
  {
   "attachments": {},
   "cell_type": "markdown",
   "metadata": {},
   "source": [
    "Downsides of vanilla ABC:\n",
    "- How to summarize the data? Curse of dimensionality / loss of information.\n",
    "- How to compare with data? Likelihood may not be available.\n",
    "- Choice of acceptance threshold: Precision/efficiency tradeoff.\n",
    "- Need to re-run pipeline for new data or new prior."
   ]
  },
  {
   "cell_type": "markdown",
   "metadata": {},
   "source": [
    "## 1.5 Using Neural estimation methods "
   ]
  },
  {
   "cell_type": "markdown",
   "metadata": {},
   "source": [
    "Depending on your situation, different neural estimation may be useful in certain cases. From Carol's lecture, here is a summary of the features of Neural likelihood-Ratio Estimation ([NRE](#nre)), Neural Posterior Estimation ([NPE](#npe)), and Neural Likelihood Estimation (NLE). "
   ]
  },
  {
   "cell_type": "markdown",
   "metadata": {},
   "source": [
    "<img src=./assets/neural_estimation.png alt= “” width=800>\n"
   ]
  },
  {
   "attachments": {},
   "cell_type": "markdown",
   "metadata": {},
   "source": [
    "# 2. Neural likelihood-ratio estimation (NRE)\n",
    "<a id=\"nre\"></a>"
   ]
  },
  {
   "cell_type": "markdown",
   "metadata": {},
   "source": [
    "Now we will still be using the [bump simulator](#bump_sim) (Section 1.3), but now feed this into a neural network and explore how to use NRE to evaluate the likelihood ratio."
   ]
  },
  {
   "attachments": {},
   "cell_type": "markdown",
   "metadata": {},
   "source": [
    "<img src=./assets/nre.png alt= “” width=1000>"
   ]
  },
  {
   "attachments": {},
   "cell_type": "markdown",
   "metadata": {},
   "source": [
    "For numerical stability, the alternate hypothesis $\\theta_0$ can be assumed to be one where $x$ and $\\theta$ are not correlated, i.e., drawn from the individual marginal distributions $\\{x, \\theta\\} \\sim p(x)\\,p(\\theta)$. Then the alternate has support over the entire parameter space, instead of being a single hypothesis $\\theta_0$.\n",
    "\n",
    "In this case, we get the likelihood-to-evidence ratio,\n",
    "\n",
    "$$\\hat r(x, \\theta) = \\frac{s(x, \\theta)}{1 - s(x, \\theta)} = \\frac{p(x,\\theta)}{p(x)p(\\theta)} = \\frac{p(x\\mid\\theta)}{p(x)}$$\n",
    "\n",
    "$\\hat r(x, \\theta)$ can be shown to be the classifier logit, i.e. the output before softmaxxing into the decision function with range between 0 and 1."
   ]
  },
  {
   "attachments": {},
   "cell_type": "markdown",
   "metadata": {},
   "source": [
    "#### Start by creating some training data with [bump simulator](#bump_sim). **FILL IN CODE**"
   ]
  },
  {
   "cell_type": "code",
   "execution_count": 19,
   "metadata": {},
   "outputs": [
    {
     "name": "stderr",
     "output_type": "stream",
     "text": [
      "100%|██████████| 50000/50000 [00:00<00:00, 64600.42it/s]\n"
     ]
    }
   ],
   "source": [
    "n_train = 50_000\n",
    "\n",
    "# Simulate training data\n",
    "\n",
    "########## ADD CODE HERE ##########\n",
    "##### Use a uniform random distribution to create a theta samples in some range around your amp_s and mu_s true values\n",
    "##### For each theta sample, use the bump simulator. You will also need to give the simulator the y linspace sampling of the mass (mu_s) space\n",
    "########## ADD CODE HERE ##########\n",
    "\n",
    "# Convert to torch tensors\n",
    "theta_samples = torch.tensor(theta_samples, dtype=torch.float32)\n",
    "x_samples = torch.tensor(x_samples, dtype=torch.float32)\n",
    "\n",
    "# Normalize the data\n",
    "x_mean = x_samples.mean(dim=0)\n",
    "x_std = x_samples.std(dim=0)\n",
    "x_samples = (x_samples - x_mean) / x_std\n",
    "\n",
    "theta_mean = theta_samples.mean(dim=0)\n",
    "theta_std = theta_samples.std(dim=0)\n",
    "theta_samples = (theta_samples - theta_mean) / theta_std"
   ]
  },
  {
   "attachments": {},
   "cell_type": "markdown",
   "metadata": {},
   "source": [
    "## 2.1. As our parameterized classifier, we will use a simple MLP or dense network\n",
    "<a id=\"mlp\"></a>"
   ]
  },
  {
   "cell_type": "code",
   "execution_count": 20,
   "metadata": {},
   "outputs": [],
   "source": [
    "def build_mlp(input_dim, hidden_dim, output_dim, layers, activation=nn.GELU()):\n",
    "    \"\"\"Create an MLP from the configuration.\"\"\"\n",
    "    seq = [nn.Linear(input_dim, hidden_dim), activation]\n",
    "    for _ in range(layers):\n",
    "        seq += [nn.Linear(hidden_dim, hidden_dim), activation]\n",
    "    seq += [nn.Linear(hidden_dim, output_dim)]\n",
    "    return nn.Sequential(*seq)"
   ]
  },
  {
   "attachments": {},
   "cell_type": "markdown",
   "metadata": {},
   "source": [
    "Create a neural ratio estimator class, with a corresponding loss function. The loss is a simple [binary cross-entropy loss](https://towardsdatascience.com/understanding-binary-cross-entropy-log-loss-a-visual-explanation-a3ac6025181a) that discriminates between samples from the joint distribution $\\{x, \\theta\\} \\sim p(x\\mid\\theta)$ and those from a product of marginals $\\{x, \\theta\\} \\sim p(x)\\,p(\\theta)$. Samples from the latter are obtained by shuffling joint samples from within a batch.\n",
    "\n",
    "The binary cross-entropy loss is used as the classifier loss to distinguish samples from the joint and marginals,\n",
    "$$\\mathcal L = - \\sum_i y_i \\log(p_i)$$\n",
    "where $y_i$ are the true labels and $p_i$ the softmaxxed probabilities."
   ]
  },
  {
   "cell_type": "markdown",
   "metadata": {},
   "source": [
    "### Neural Ration Estimator is defined below. **FILL IN CODE**"
   ]
  },
  {
   "cell_type": "code",
   "execution_count": 21,
   "metadata": {},
   "outputs": [],
   "source": [
    "class NeuralRatioEstimator(pl.LightningModule):\n",
    "    \"\"\" Simple neural likelihood-to-evidence ratio estimator, using an MLP as a parameterized classifier.\n",
    "    \"\"\"\n",
    "    def __init__(self, x_dim, theta_dim):\n",
    "        super().__init__()\n",
    "        self.classifier = build_mlp(input_dim=x_dim + theta_dim, hidden_dim=128, output_dim=1, layers=4)\n",
    "\n",
    "    def forward(self, x):\n",
    "        return self.classifier(x)\n",
    "    \n",
    "    def loss(self, x, theta):\n",
    "\n",
    "        # Repeat x in groups of 2 along batch axis\n",
    "        x = x.repeat_interleave(2, dim=0)\n",
    "\n",
    "        # Get a shuffled version of theta\n",
    "        theta_shuffled = theta[torch.randperm(theta.shape[0])]\n",
    "\n",
    "        # Interleave theta and shuffled theta\n",
    "        theta = torch.stack([theta, theta_shuffled], dim=1).reshape(-1, theta.shape[1])\n",
    "\n",
    "        # Get labels; ones for pairs from joint, zeros for pairs from marginals\n",
    "        labels = torch.ones(x.shape[0], device=x.device) \n",
    "        labels[1::2] = 0.0\n",
    "\n",
    "        # Pass through parameterized classifier to get logits\n",
    "        logits = self(torch.cat([x, theta], dim=1))\n",
    "        probs = torch.sigmoid(logits).squeeze()\n",
    "\n",
    "        #### ADD CODE HERE####\n",
    "        return ### RETURN LOSS FUNCTION ####\n",
    "        #### ADD CODE HERE####\n",
    "\n",
    "    def training_step(self, batch, batch_idx):\n",
    "        x, theta = batch\n",
    "        loss = self.loss(x, theta).mean()\n",
    "        self.log(\"train_loss\", loss,on_step=False, on_epoch=True, prog_bar=True)\n",
    "        return loss\n",
    "\n",
    "    def validation_step(self, batch, batch_idx):\n",
    "        x, theta = batch\n",
    "        loss = self.loss(x, theta).mean()\n",
    "        self.log(\"val_loss\", loss,on_step=False, on_epoch=True, prog_bar=True)\n",
    "        return loss\n",
    "\n",
    "\n",
    "    def configure_optimizers(self):\n",
    "        return torch.optim.Adam(self.parameters(), lr=3e-4)"
   ]
  },
  {
   "cell_type": "markdown",
   "metadata": {},
   "source": [
    "### **Bonus Exercise**: Try using another classification loss function. How does this change the outcome?"
   ]
  },
  {
   "cell_type": "code",
   "execution_count": 22,
   "metadata": {},
   "outputs": [
    {
     "data": {
      "text/plain": [
       "tensor([0.7051, 0.6812, 0.7045, 0.6821, 0.7051, 0.6808, 0.7050, 0.6815, 0.7035,\n",
       "        0.6829, 0.7034, 0.6828, 0.7040, 0.6821, 0.7056, 0.6811, 0.7043, 0.6821,\n",
       "        0.7056, 0.6808, 0.7043, 0.6821, 0.7040, 0.6824, 0.7050, 0.6817, 0.7042,\n",
       "        0.6822, 0.7044, 0.6819, 0.7042, 0.6822, 0.7041, 0.6824, 0.7065, 0.6802,\n",
       "        0.7039, 0.6825, 0.7044, 0.6817, 0.7046, 0.6817, 0.7048, 0.6814, 0.7043,\n",
       "        0.6826, 0.7035, 0.6829, 0.7042, 0.6822, 0.7034, 0.6831, 0.7054, 0.6814,\n",
       "        0.7040, 0.6825, 0.7041, 0.6824, 0.7040, 0.6820, 0.7048, 0.6816, 0.7049,\n",
       "        0.6815, 0.7033, 0.6835, 0.7051, 0.6812, 0.7040, 0.6823, 0.7044, 0.6821,\n",
       "        0.7061, 0.6804, 0.7043, 0.6821, 0.7035, 0.6827, 0.7045, 0.6817, 0.7053,\n",
       "        0.6812, 0.7040, 0.6822, 0.7040, 0.6822, 0.7043, 0.6821, 0.7045, 0.6819,\n",
       "        0.7043, 0.6820, 0.7034, 0.6831, 0.7035, 0.6827, 0.7040, 0.6821, 0.7035,\n",
       "        0.6829, 0.7036, 0.6828, 0.7034, 0.6825, 0.7037, 0.6828, 0.7042, 0.6822,\n",
       "        0.7041, 0.6827, 0.7048, 0.6819, 0.7038, 0.6822, 0.7042, 0.6820, 0.7039,\n",
       "        0.6828, 0.7051, 0.6814, 0.7039, 0.6829, 0.7036, 0.6823, 0.7045, 0.6820,\n",
       "        0.7056, 0.6812], grad_fn=<BinaryCrossEntropyBackward0>)"
      ]
     },
     "execution_count": 22,
     "metadata": {},
     "output_type": "execute_result"
    }
   ],
   "source": [
    "# Evaluate loss; initially it should be around -log(0.5) = 0.693\n",
    "nre = NeuralRatioEstimator(x_dim=len(y), theta_dim=2)\n",
    "nre.loss(x_samples[:64], theta_samples[:64])"
   ]
  },
  {
   "cell_type": "code",
   "execution_count": 23,
   "metadata": {},
   "outputs": [],
   "source": [
    "#Run dataloader\n",
    "val_fraction = 0.1\n",
    "batch_size = 128\n",
    "n_samples_val = int(val_fraction * len(x_samples))\n",
    "\n",
    "dataset = TensorDataset(x_samples, theta_samples)\n",
    "\n",
    "dataset_train, dataset_val = random_split(dataset, [len(x_samples) - n_samples_val, n_samples_val])\n",
    "train_loader = DataLoader(dataset_train, batch_size=batch_size, num_workers=8, pin_memory=True, shuffle=True)\n",
    "val_loader = DataLoader(dataset_val, batch_size=batch_size, num_workers=8, pin_memory=True, shuffle=False)\n"
   ]
  },
  {
   "cell_type": "code",
   "execution_count": 45,
   "metadata": {},
   "outputs": [
    {
     "name": "stderr",
     "output_type": "stream",
     "text": [
      "GPU available: True (mps), used: True\n",
      "TPU available: False, using: 0 TPU cores\n",
      "HPU available: False, using: 0 HPUs\n",
      "\n",
      "  | Name       | Type       | Params | Mode \n",
      "--------------------------------------------------\n",
      "0 | classifier | Sequential | 74.2 K | train\n",
      "--------------------------------------------------\n",
      "74.2 K    Trainable params\n",
      "0         Non-trainable params\n",
      "74.2 K    Total params\n",
      "0.297     Total estimated model params size (MB)\n",
      "8         Modules in train mode\n",
      "0         Modules in eval mode\n"
     ]
    },
    {
     "name": "stdout",
     "output_type": "stream",
     "text": [
      "Sanity Checking: |          | 0/? [00:00<?, ?it/s]"
     ]
    },
    {
     "name": "stderr",
     "output_type": "stream",
     "text": [
      "/Library/Frameworks/Python.framework/Versions/3.12/lib/python3.12/site-packages/pytorch_lightning/trainer/connectors/data_connector.py:419: Consider setting `persistent_workers=True` in 'val_dataloader' to speed up the dataloader worker initialization.\n"
     ]
    },
    {
     "name": "stdout",
     "output_type": "stream",
     "text": [
      "                                                                           \r"
     ]
    },
    {
     "name": "stderr",
     "output_type": "stream",
     "text": [
      "/Library/Frameworks/Python.framework/Versions/3.12/lib/python3.12/site-packages/pytorch_lightning/trainer/connectors/data_connector.py:419: Consider setting `persistent_workers=True` in 'train_dataloader' to speed up the dataloader worker initialization.\n"
     ]
    },
    {
     "name": "stdout",
     "output_type": "stream",
     "text": [
      "Epoch 19: 100%|██████████| 352/352 [00:09<00:00, 39.08it/s, v_num=21, val_loss=0.0846, train_loss=0.0824]"
     ]
    },
    {
     "name": "stderr",
     "output_type": "stream",
     "text": [
      "`Trainer.fit` stopped: `max_epochs=20` reached.\n"
     ]
    },
    {
     "name": "stdout",
     "output_type": "stream",
     "text": [
      "Epoch 19: 100%|██████████| 352/352 [00:09<00:00, 39.02it/s, v_num=21, val_loss=0.0846, train_loss=0.0824]\n"
     ]
    }
   ],
   "source": [
    "#Train\n",
    "trainer = pl.Trainer(max_epochs=20,logger=True)\n",
    "trainer.fit(model=nre, train_dataloaders=train_loader, val_dataloaders=val_loader);\n",
    "######### Locally took about 3 min on Apple M1 GPU ##########"
   ]
  },
  {
   "cell_type": "markdown",
   "metadata": {},
   "source": [
    "### **Exercise**: Plot the Training and Validation Loss"
   ]
  },
  {
   "cell_type": "code",
   "execution_count": null,
   "metadata": {},
   "outputs": [],
   "source": [
    "\n",
    "# Specify the path to the log directory\n",
    "log_dir = trainer.logger.log_dir\n",
    "\n",
    "# Initialize the event accumulator\n",
    "event_acc = EventAccumulator(log_dir)\n",
    "event_acc.Reload()\n",
    "\n",
    "# Get the scalar values\n",
    "train_loss = event_acc.Scalars('train_loss')\n",
    "val_loss = event_acc.Scalars('val_loss')\n",
    "\n",
    "# Extract the values and steps\n",
    "train_loss_values = [x.value for x in train_loss]\n",
    "train_steps = [x.step for x in train_loss]\n",
    "##### ADD CODE HERE ########\n",
    "## Pull the validation loss and steps #######\n",
    "##### ADD CODE HERE ########\n",
    "\n",
    "plt.figure(figsize=(10, 5))\n",
    "##### ADD CODE HERE ########\n",
    "## Plot training loss vs validation loss\n",
    "##### ADD CODE HERE ########\n",
    "plt.xlabel('Step')\n",
    "plt.ylabel('Loss')\n",
    "plt.legend()\n",
    "plt.title('Training and Validation Loss At Each Epoch')\n",
    "plt.show()"
   ]
  },
  {
   "attachments": {},
   "cell_type": "markdown",
   "metadata": {},
   "source": [
    "The classifier logits are now an estimator for the likelihood ratio.\n",
    "#### We can write down a log-likelihood function and use it to sample from the corresponding posterior distribution, just like before. **FILL IN CODE**"
   ]
  },
  {
   "cell_type": "code",
   "execution_count": 42,
   "metadata": {},
   "outputs": [
    {
     "data": {
      "text/plain": [
       "tensor(4.8026, grad_fn=<SqueezeBackward0>)"
      ]
     },
     "execution_count": 42,
     "metadata": {},
     "output_type": "execute_result"
    }
   ],
   "source": [
    "def log_like(theta, x):\n",
    "    \"\"\" Log-likelihood ratio estimator using trained classifier logits.\n",
    "    \"\"\"\n",
    "        \n",
    "    x = torch.Tensor(x)\n",
    "    theta = torch.Tensor(theta)\n",
    "\n",
    "    # Normalize\n",
    "    x = (x - x_mean) / x_std\n",
    "    theta = (theta - theta_mean) / theta_std\n",
    "\n",
    "    x = torch.atleast_1d(x)\n",
    "    theta = torch.atleast_1d(theta)\n",
    "\n",
    "    return nre.classifier(torch.cat([x, theta], dim=-1)).squeeze()\n",
    "\n",
    "##### ADD CODE HERE ########\n",
    "theta_test = ## Create oen set of theta (amp_s, mu_s) test points (hint, they must be tuple in np array)\n",
    "x_test = ## Run bump simulator on test points, over y linspace of mass samples. Hint: Take 0th output of simulator to just get reults and not settings list\n",
    "##### ADD CODE HERE ########\n",
    "\n",
    "log_like(theta_test, x_test)"
   ]
  },
  {
   "cell_type": "code",
   "execution_count": 27,
   "metadata": {},
   "outputs": [],
   "source": [
    "def log_post(theta, x):\n",
    "    \"\"\" Log-posterior distribution, for sampling.\n",
    "    \"\"\"\n",
    "    lp = log_prior(theta)\n",
    "    if not np.isfinite(lp):\n",
    "        return -np.inf\n",
    "    else:\n",
    "        return lp + log_like(theta, x).detach().numpy()"
   ]
  },
  {
   "attachments": {},
   "cell_type": "markdown",
   "metadata": {},
   "source": [
    "#### Sample with `emcee`:"
   ]
  },
  {
   "cell_type": "code",
   "execution_count": 43,
   "metadata": {},
   "outputs": [
    {
     "name": "stderr",
     "output_type": "stream",
     "text": [
      "100%|██████████| 5000/5000 [00:15<00:00, 326.16it/s]\n"
     ]
    }
   ],
   "source": [
    "ndim, nwalkers = 2, 32\n",
    "sampler = emcee.EnsembleSampler(nwalkers, ndim, log_post, args=(x_test,))\n",
    "\n",
    "pos = opt.x + 1e-1 * np.random.randn(nwalkers, ndim)\n",
    "sampler.run_mcmc(pos, 5000, progress=True);"
   ]
  },
  {
   "attachments": {},
   "cell_type": "markdown",
   "metadata": {},
   "source": [
    "#### Plot approximate posterior:"
   ]
  },
  {
   "cell_type": "code",
   "execution_count": null,
   "metadata": {},
   "outputs": [],
   "source": [
    "flat_samples = sampler.get_chain(discard=1000, flat=True)\n",
    "corner.corner(flat_samples, labels=[\"amp_s\", \"mu_s\"], truths=[90, 119]);"
   ]
  },
  {
   "cell_type": "markdown",
   "metadata": {},
   "source": [
    "### **Bonus Exercise**: What if you changed the [MLP](#mlp) to a different network architecture? How does this affect your results?"
   ]
  },
  {
   "attachments": {},
   "cell_type": "markdown",
   "metadata": {},
   "source": [
    "# 3. Neural posterior estimation (NPE)\n",
    "<a id=\"npe\"></a>"
   ]
  },
  {
   "attachments": {},
   "cell_type": "markdown",
   "metadata": {},
   "source": [
    "<img src=./assets/npe.png alt= “” width=800>"
   ]
  },
  {
   "attachments": {},
   "cell_type": "markdown",
   "metadata": {},
   "source": [
    "Construct a neural posterior estimator. It uses a normalizing flow as a (conditional) posterior density estimator, and a feature-extraction network that aligns the directions of variations in parameters $\\theta$ and data $x$.\n",
    "$$  \\mathcal L = -\\log p_\\phi(\\theta\\mid s_\\varphi(x))$$\n",
    "where $\\{\\phi, \\varphi\\}$ are the parameters of the normalizing flow and featurizer MLP, respectively."
   ]
  },
  {
   "cell_type": "markdown",
   "metadata": {},
   "source": [
    "### 3.1 Use zuko's Masked Autoregressive Flow"
   ]
  },
  {
   "cell_type": "code",
   "execution_count": 30,
   "metadata": {},
   "outputs": [
    {
     "name": "stdout",
     "output_type": "stream",
     "text": [
      "torch.Size([100, 2, 2])\n"
     ]
    }
   ],
   "source": [
    "# MAP with 2 sample features and 16 context features, \n",
    "flow = zuko.flows.MAF(features=2,context=16,transforms=4, hidden_features=[32,32])\n",
    "\n",
    "context=torch.randn(2, 16)\n",
    "samples = flow(context).sample((100,))\n",
    "flow(context).log_prob(samples)\n",
    "print(samples.shape)"
   ]
  },
  {
   "cell_type": "markdown",
   "metadata": {},
   "source": [
    "### 3.2 Create NPE and call flow for the loss"
   ]
  },
  {
   "cell_type": "code",
   "execution_count": 31,
   "metadata": {},
   "outputs": [],
   "source": [
    "class NeuralPosteriorEstimator(pl.LightningModule):\n",
    "    \"\"\" Simple neural posterior estimator class using a normalizing flow as the posterior density estimator.\n",
    "    \"\"\"\n",
    "    def __init__(self, featurizer, flow):\n",
    "        super().__init__()\n",
    "        self.featurizer = featurizer\n",
    "        self.flow = flow\n",
    "\n",
    "    def forward(self, x):\n",
    "        return self.featurizer(x)\n",
    "    \n",
    "    def loss(self, x, theta):\n",
    "        context = self(x)\n",
    "        return -self.flow(context).log_prob(theta)\n",
    "\n",
    "    def training_step(self, batch, batch_idx):\n",
    "        x, theta = batch\n",
    "        loss = self.loss(x, theta).mean()\n",
    "        self.log(\"train_loss\", loss,on_step=False, on_epoch=True, prog_bar=True)\n",
    "        return loss\n",
    "\n",
    "    def validation_step(self, batch, batch_idx):\n",
    "        x, theta = batch\n",
    "        loss = self.loss(x, theta).mean()\n",
    "        self.log(\"val_loss\", loss,on_step=False, on_epoch=True, prog_bar=True)\n",
    "        return loss\n",
    "\n",
    "    def configure_optimizers(self):\n",
    "        return torch.optim.Adam(self.parameters(), lr=3e-4)"
   ]
  },
  {
   "attachments": {},
   "cell_type": "markdown",
   "metadata": {},
   "source": [
    "### 3.3 Instantiate the NPE class and look at the loss:"
   ]
  },
  {
   "cell_type": "code",
   "execution_count": null,
   "metadata": {},
   "outputs": [],
   "source": [
    "npe = NeuralPosteriorEstimator(featurizer=build_mlp(input_dim=x_samples.shape[-1], hidden_dim=128, output_dim=16, layers=4),flow=flow)\n",
    "npe.loss(x_samples[:64], theta_samples[:64])"
   ]
  },
  {
   "attachments": {},
   "cell_type": "markdown",
   "metadata": {},
   "source": [
    "Train using the same data as before:"
   ]
  },
  {
   "cell_type": "code",
   "execution_count": null,
   "metadata": {},
   "outputs": [],
   "source": [
    "trainer = pl.Trainer(max_epochs=20)\n",
    "trainer.fit(model=npe, train_dataloaders=train_loader, val_dataloaders=val_loader);\n",
    "####### This step took me ~6 min locally on Apple M1 GPU #########"
   ]
  },
  {
   "cell_type": "code",
   "execution_count": 34,
   "metadata": {},
   "outputs": [
    {
     "data": {
      "image/png": "[encoded data removed]",
      "text/plain": [
       "<Figure size 1000x500 with 1 Axes>"
      ]
     },
     "metadata": {},
     "output_type": "display_data"
    }
   ],
   "source": [
    "# Specify the path to the log directory\n",
    "log_dir = trainer.logger.log_dir\n",
    "\n",
    "# Initialize the event accumulator\n",
    "event_acc = EventAccumulator(log_dir)\n",
    "event_acc.Reload()\n",
    "\n",
    "# Get the scalar values\n",
    "train_loss = event_acc.Scalars('train_loss')\n",
    "val_loss = event_acc.Scalars('val_loss')\n",
    "\n",
    "# Extract the values and steps\n",
    "train_loss_values = [x.value for x in train_loss]\n",
    "train_steps = [x.step for x in train_loss]\n",
    "##### ADD CODE HERE ########\n",
    "## Pull the validation loss and steps #######\n",
    "##### ADD CODE HERE ########\n",
    "\n",
    "plt.figure(figsize=(10, 5))\n",
    "##### ADD CODE HERE ########\n",
    "## Plot training loss vs validation loss\n",
    "##### ADD CODE HERE ########\n",
    "plt.xlabel('Step')\n",
    "plt.ylabel('Loss')\n",
    "plt.legend()\n",
    "plt.title('Training and Validation Loss At Each Epoch')\n",
    "plt.show()"
   ]
  },
  {
   "attachments": {},
   "cell_type": "markdown",
   "metadata": {},
   "source": [
    " We get posterior samples by drawing from \n",
    "$$\\theta \\sim p_\\phi(\\theta\\mid s_\\varphi(x)).$$"
   ]
  },
  {
   "cell_type": "code",
   "execution_count": 39,
   "metadata": {},
   "outputs": [],
   "source": [
    "##### ADD CODE HERE ########\n",
    "theta_test = ## Create oen set of theta (amp_s, mu_s) test points (hint, they must be tuple in np array)\n",
    "x_test = ## Run bump simulator on test points, over y linspace of mass samples. Hint: Take 0th output of simulator to just get reults and not settings list\n",
    "##### ADD CODE HERE ########"
   ]
  },
  {
   "cell_type": "code",
   "execution_count": 36,
   "metadata": {},
   "outputs": [],
   "source": [
    "npe = npe.to(device) #May need if you are running locally, to connect GPU/CPU devices"
   ]
  },
  {
   "cell_type": "code",
   "execution_count": 40,
   "metadata": {},
   "outputs": [],
   "source": [
    "x_test_norm = (torch.Tensor(x_test) - x_mean) / x_std\n",
    "context = npe.featurizer(x_test_norm).unsqueeze(0)"
   ]
  },
  {
   "cell_type": "code",
   "execution_count": 41,
   "metadata": {},
   "outputs": [
    {
     "name": "stdout",
     "output_type": "stream",
     "text": [
      "(10000, 2)\n"
     ]
    },
    {
     "data": {
      "image/png": "[encoded data removed]",
      "text/plain": [
       "<Figure size 550x550 with 4 Axes>"
      ]
     },
     "metadata": {},
     "output_type": "display_data"
    }
   ],
   "source": [
    "samples_test = npe.flow(context).sample((10000,)) * theta_std + theta_mean\n",
    "samples_test = samples_test.detach().squeeze().numpy()\n",
    "print(samples_test.shape)\n",
    "corner.corner(samples_test, labels=[\"amp_s\", \"mu_s\"], truths=[150, 126]);"
   ]
  },
  {
   "attachments": {},
   "cell_type": "markdown",
   "metadata": {},
   "source": [
    "# Further reading"
   ]
  },
  {
   "attachments": {},
   "cell_type": "markdown",
   "metadata": {},
   "source": [
    "- [The frontier of simulation-based inference](https://arxiv.org/abs/1911.01429) (Cranmer, Brehmer, Louppe): Review paper\n",
    "- [simulation-based-inference.org](http://simulation-based-inference.org/): List of papers and resources\n",
    "- [awesome-neural-sbi](https://github.com/smsharma/awesome-neural-sbi): List of papers and resources"
   ]
  },
  {
   "attachments": {},
   "cell_type": "markdown",
   "metadata": {},
   "source": [
    "<img src=./assets/header.png alt= “” width=800>\n",
    "Credit: Siddharth"
   ]
  },
  {
   "cell_type": "markdown",
   "metadata": {},
   "source": []
  }
 ],
 "metadata": {
  "kernelspec": {
   "display_name": "torch-mps",
   "language": "python",
   "name": "python3"
  },
  "language_info": {
   "codemirror_mode": {
    "name": "ipython",
    "version": 3
   },
   "file_extension": ".py",
   "mimetype": "text/x-python",
   "name": "python",
   "nbconvert_exporter": "python",
   "pygments_lexer": "ipython3",
   "version": "3.12.2"
  },
  "orig_nbformat": 4
 },
 "nbformat": 4,
 "nbformat_minor": 2
}
